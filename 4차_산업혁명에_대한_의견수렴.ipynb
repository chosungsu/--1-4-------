{
 "cells": [
  {
   "cell_type": "markdown",
   "metadata": {
    "id": "BGuLI49ncIa-"
   },
   "source": [
    "## 🙄 4차 산업혁명에 관심이 많아 이에 대해 본격적인 분석에 앞서 네이버 검색 API를 통해 간략적인 대중들의 생각을 파악해보고자 한다.\n",
    "\n",
    "\n",
    "\n"
   ]
  },
  {
   "cell_type": "code",
   "execution_count": 1,
   "metadata": {
    "id": "pbKJGRABb1Xd"
   },
   "outputs": [],
   "source": [
    "import pandas as pd\n",
    "import json\n",
    "import math\n",
    "import re\n",
    "import csv\n",
    "import requests\n",
    "import urllib.request\n",
    "import urllib.error\n",
    "import urllib.parse\n",
    "from bs4 import BeautifulSoup"
   ]
  },
  {
   "cell_type": "code",
   "execution_count": 2,
   "metadata": {
    "id": "Jl9OG-nWdkv6"
   },
   "outputs": [],
   "source": [
    "naver_client_id = \"dABwTg5q0WrSjsUsWsDU\"\n",
    "naver_client_secret = \"62yEiEGvU4\""
   ]
  },
  {
   "cell_type": "markdown",
   "metadata": {
    "id": "82RkbQl_x9zk"
   },
   "source": [
    "### 🏹 get_blog_count 함수는 블로그 내에서 원하는 query별로 탐색하는 과정으로 블로그 개수를 나타내는 로직을 담았다."
   ]
  },
  {
   "cell_type": "code",
   "execution_count": 3,
   "metadata": {
    "id": "q7YB_6VJfCa5"
   },
   "outputs": [],
   "source": [
    "def get_blog_count(query, display):\n",
    "    encode_query = urllib.parse.quote(query)\n",
    "    search_url = \"https://openapi.naver.com/v1/search/blog?query=\" + encode_query\n",
    "    request = urllib.request.Request(search_url)\n",
    "\n",
    "    request.add_header(\"X-Naver-Client-Id\", naver_client_id)\n",
    "    request.add_header(\"X-Naver-Client-Secret\", naver_client_secret)\n",
    "\n",
    "    response = urllib.request.urlopen(request)\n",
    "    response_code = response.getcode()\n",
    "\n",
    "    if response_code == 200:\n",
    "        response_body = response.read()\n",
    "        response_body_dict = json.loads(response_body.decode('utf-8'))\n",
    "\n",
    "        print(\"Last build date: \" + str(response_body_dict['lastBuildDate']))\n",
    "        print(\"Total: \" + str(response_body_dict['total']))\n",
    "        print(\"Start: \" + str(response_body_dict['start']))\n",
    "        print(\"Display: \" + str(response_body_dict['display']))\n",
    "\n",
    "        if response_body_dict['total'] == 0:\n",
    "            blog_count = 0\n",
    "        else:\n",
    "            blog_total = math.ceil(response_body_dict['total'] / int(display))\n",
    "\n",
    "            if blog_total >= 1000:\n",
    "                blog_count = 1000\n",
    "            else:\n",
    "                blog_count = blog_total\n",
    "\n",
    "            print(\"Blog total: \" + str(blog_total))\n",
    "            print(\"Blog count: \" + str(blog_count))\n",
    "\n",
    "        return blog_count"
   ]
  },
  {
   "cell_type": "markdown",
   "metadata": {
    "id": "VFz8v_bAzBW4"
   },
   "source": [
    "## 🏹 get_blog_post 함수는 각 블로그마다 원하는 쿼리단어가 포함되었으면 이를 csv로 추출하는 로직을 담았다."
   ]
  },
  {
   "cell_type": "code",
   "execution_count": 4,
   "metadata": {
    "id": "3W9Cz8-4y9_J"
   },
   "outputs": [],
   "source": [
    "def get_blog_post(query, display, start_index, sort):\n",
    "    global no, df\n",
    "    \n",
    "    encode_query = urllib.parse.quote(query)\n",
    "    search_url = \"https://openapi.naver.com/v1/search/blog?query=\" + encode_query + \"&display=\" + str(display) + \"&start=\" + str(start_index) + \"&sort=\" + sort\n",
    "\n",
    "    request = urllib.request.Request(search_url)\n",
    "\n",
    "    request.add_header(\"X-Naver-Client-Id\", naver_client_id)\n",
    "    request.add_header(\"X-Naver-Client-Secret\", naver_client_secret)\n",
    "\n",
    "    response = urllib.request.urlopen(request)\n",
    "    response_code = response.getcode()\n",
    "\n",
    "    if response_code == 200:\n",
    "        response_body = response.read()\n",
    "        response_body_dict = json.loads(response_body.decode('utf-8'))\n",
    "        for item_index in range(0, len(response_body_dict['items'])):\n",
    "            try:\n",
    "                remove_html_tag = re.compile('<.*?>')\n",
    "                title = re.sub(remove_html_tag, '', response_body_dict['items'][item_index]['title'])\n",
    "                link = response_body_dict['items'][item_index]['link'].replace(\"amp;\", \"\")\n",
    "                description = re.sub(remove_html_tag, '', response_body_dict['items'][item_index]['description'])\n",
    "                blogger_name = response_body_dict['items'][item_index]['bloggername']\n",
    "                blogger_link = response_body_dict['items'][item_index]['bloggerlink']\n",
    "                post_date = response_body_dict['items'][item_index]['postdate']\n",
    "\n",
    "                no += 1\n",
    "                post_code = requests.get(link)\n",
    "                post_text = post_code.text\n",
    "                post_soup = BeautifulSoup(post_text, 'lxml')\n",
    "\n",
    "                blog_post_content_text = \"\"\n",
    "                for mainFrame in post_soup.select('iframe#mainFrame'):\n",
    "                    blog_post_url = \"http://blog.naver.com\" + mainFrame.get('src')\n",
    "                    blog_post_code = requests.get(blog_post_url)\n",
    "                    blog_post_text = blog_post_code.text\n",
    "                    blog_post_soup = BeautifulSoup(blog_post_text, 'lxml')\n",
    "                    \n",
    "                    for blog_post_content in blog_post_soup.find_all('div', class_='se-viewer'):\n",
    "                        blog_post_content_text = blog_post_content.get_text()\n",
    "                        \n",
    "                    for blog_post_content in blog_post_soup.find_all('div', class_='se_doc_viewer'):\n",
    "                        blog_post_content_text = blog_post_content.get_text()\n",
    " \n",
    "                    for blog_post_content in blog_post_soup.select('div#postViewArea'):\n",
    "                        blog_post_content_text = blog_post_content.get_text()\n",
    "\n",
    "                df.loc[no] = [title, link, description, blogger_name, blogger_link, post_date, blog_post_content_text]\n",
    "                print(\"*\", end='')\n",
    "                \n",
    "            except:\n",
    "                item_index += 1"
   ]
  },
  {
   "cell_type": "code",
   "execution_count": 5,
   "metadata": {
    "colab": {
     "base_uri": "https://localhost:8080/",
     "height": 543
    },
    "id": "VY2herYpzpbs",
    "outputId": "5bb90645-135e-4782-b0f7-b765a6791b42"
   },
   "outputs": [
    {
     "name": "stdout",
     "output_type": "stream",
     "text": [
      "Last build date: Sat, 22 Jan 2022 12:04:42 +0900\n",
      "Total: 746998\n",
      "Start: 1\n",
      "Display: 10\n",
      "Blog total: 74700\n",
      "Blog count: 1000\n",
      "****************************************************************************************************************************************************************************************************************************************************************************************************************************************************************************************************************************************************************************************************************************************************************************************************************************************************************************************************************************************************************************************************************************************************************************************************************************************************************************************************************************************"
     ]
    }
   ],
   "source": [
    "no = 0                 # 몇개의 포스트를 저장하였는지 세기 위한 index\n",
    "query = \"4차 산업혁명\"   # 검색을 원하는 문자열로서 UTF-8로 인코딩한다.\n",
    "display = 10           # 검색 결과 출력 건수 지정, 10(기본값),100(최대)\n",
    "start = 1              # 검색 시작 위치로 최대 1000까지 가능\n",
    "sort = \"sim\"           # 정렬 옵션: sim(유사도순, 기본값), date(날짜순)\n",
    "\n",
    "# 블로그를 DataFrame에 저장\n",
    "df = pd.DataFrame(columns=(\"Title\", \"Link\", \"Description\", \"Blogger Name\", \"Blogger Link\", \"Post Date\", \"Post Contents\"))\n",
    "\n",
    "blog_count = get_blog_count(query, display)\n",
    "for start_index in range(start, blog_count + 1, display):\n",
    "    get_blog_post(query, display, start_index, sort)"
   ]
  },
  {
   "cell_type": "code",
   "execution_count": 6,
   "metadata": {},
   "outputs": [],
   "source": [
    "df.to_csv(\"data/fourth_revolution.csv\", header=True, index=False, encoding=\"utf-8\")"
   ]
  },
  {
   "cell_type": "code",
   "execution_count": 7,
   "metadata": {},
   "outputs": [
    {
     "data": {
      "text/html": [
       "<div>\n",
       "<style scoped>\n",
       "    .dataframe tbody tr th:only-of-type {\n",
       "        vertical-align: middle;\n",
       "    }\n",
       "\n",
       "    .dataframe tbody tr th {\n",
       "        vertical-align: top;\n",
       "    }\n",
       "\n",
       "    .dataframe thead th {\n",
       "        text-align: right;\n",
       "    }\n",
       "</style>\n",
       "<table border=\"1\" class=\"dataframe\">\n",
       "  <thead>\n",
       "    <tr style=\"text-align: right;\">\n",
       "      <th></th>\n",
       "      <th>Title</th>\n",
       "      <th>Link</th>\n",
       "      <th>Description</th>\n",
       "      <th>Blogger Name</th>\n",
       "      <th>Blogger Link</th>\n",
       "      <th>Post Date</th>\n",
       "      <th>Post Contents</th>\n",
       "    </tr>\n",
       "  </thead>\n",
       "  <tbody>\n",
       "    <tr>\n",
       "      <th>0</th>\n",
       "      <td>4차산업혁명(4IR)과 의료기술 과목</td>\n",
       "      <td>https://blog.naver.com/ymkim1959?Redirect=Log&amp;...</td>\n",
       "      <td>4차산업혁명의 정의는 무엇인가요? 이를 구현하기 위한 기술은 무엇이 필요한가요? 기...</td>\n",
       "      <td>4차산업혁명 시대의 의공학</td>\n",
       "      <td>https://blog.naver.com/ymkim1959</td>\n",
       "      <td>20211221</td>\n",
       "      <td>\\n\\n\\n\\n\\n\\n\\n4차산업혁명\\n\\n\\n\\n\\n4차산업혁명(4IR)과 의료기...</td>\n",
       "    </tr>\n",
       "    <tr>\n",
       "      <th>1</th>\n",
       "      <td>2030년 제4차산업혁명</td>\n",
       "      <td>https://blog.naver.com/hott0116?Redirect=Log&amp;l...</td>\n",
       "      <td>시기 4차 산업혁명은 정보통신의 융합이 이루어지는 시기 그동안 우리의 생활과 산업은...</td>\n",
       "      <td>초긍정녀의 다이어리</td>\n",
       "      <td>https://blog.naver.com/hott0116</td>\n",
       "      <td>20211004</td>\n",
       "      <td>\\n\\n\\n\\n\\n\\n\\n일상과 생각♭\\n\\n\\n\\n\\n2030년 제4차산업혁명  ...</td>\n",
       "    </tr>\n",
       "    <tr>\n",
       "      <th>2</th>\n",
       "      <td>4차 산업혁명 시대, 드론을 더 안전하게 활용하는 방법은?</td>\n",
       "      <td>https://blog.naver.com/kcscpr?Redirect=Log&amp;log...</td>\n",
       "      <td>드론, 4차 산업혁명의 양날의 검! 무인항공기라 불리는 일명 '드론', 드론은 4차...</td>\n",
       "      <td>LX 한국국토정보공사 블로그</td>\n",
       "      <td>https://blog.naver.com/kcscpr</td>\n",
       "      <td>20211116</td>\n",
       "      <td>\\n\\n\\n\\n\\n\\n\\nLX 랜드러버\\n\\n\\n\\n\\n4차 산업혁명 시대, 드론을...</td>\n",
       "    </tr>\n",
       "    <tr>\n",
       "      <th>3</th>\n",
       "      <td>영재교육 4차산업혁명에 생겨나는 미래 유망 직업</td>\n",
       "      <td>https://blog.naver.com/cmath_club?Redirect=Log...</td>\n",
       "      <td>클라우드와 에지 컴퓨팅 등의 기술을 통하여 정보 시스템,통신 시스템,산업용 관리 시...</td>\n",
       "      <td>사고력수학 전문가 시매쓰</td>\n",
       "      <td>https://blog.naver.com/cmath_club</td>\n",
       "      <td>20220117</td>\n",
       "      <td>\\n\\n\\n\\n\\n\\n\\n\\n\\n\\n영재교육\\n\\n\\n\\n\\n영재교육 4차산업혁명에...</td>\n",
       "    </tr>\n",
       "    <tr>\n",
       "      <th>4</th>\n",
       "      <td>4차산업혁명 시대에 창의력은 무엇일까?</td>\n",
       "      <td>https://blog.naver.com/simon9627?Redirect=Log&amp;...</td>\n",
       "      <td>그러나 시대가 완전히 바뀐 4차산업혁명 시대에는 앞서 말했던 미술, 음악, 무용 등...</td>\n",
       "      <td>스마트메이커</td>\n",
       "      <td>https://blog.naver.com/simon9627</td>\n",
       "      <td>20211211</td>\n",
       "      <td>\\n\\n\\n\\n\\n\\n\\n이슈 뉴스\\n\\n\\n\\n\\n4차산업혁명 시대에 창의력은 무...</td>\n",
       "    </tr>\n",
       "  </tbody>\n",
       "</table>\n",
       "</div>"
      ],
      "text/plain": [
       "                              Title  \\\n",
       "0              4차산업혁명(4IR)과 의료기술 과목   \n",
       "1                     2030년 제4차산업혁명   \n",
       "2  4차 산업혁명 시대, 드론을 더 안전하게 활용하는 방법은?   \n",
       "3        영재교육 4차산업혁명에 생겨나는 미래 유망 직업   \n",
       "4             4차산업혁명 시대에 창의력은 무엇일까?   \n",
       "\n",
       "                                                Link  \\\n",
       "0  https://blog.naver.com/ymkim1959?Redirect=Log&...   \n",
       "1  https://blog.naver.com/hott0116?Redirect=Log&l...   \n",
       "2  https://blog.naver.com/kcscpr?Redirect=Log&log...   \n",
       "3  https://blog.naver.com/cmath_club?Redirect=Log...   \n",
       "4  https://blog.naver.com/simon9627?Redirect=Log&...   \n",
       "\n",
       "                                         Description     Blogger Name  \\\n",
       "0  4차산업혁명의 정의는 무엇인가요? 이를 구현하기 위한 기술은 무엇이 필요한가요? 기...   4차산업혁명 시대의 의공학   \n",
       "1  시기 4차 산업혁명은 정보통신의 융합이 이루어지는 시기 그동안 우리의 생활과 산업은...       초긍정녀의 다이어리   \n",
       "2  드론, 4차 산업혁명의 양날의 검! 무인항공기라 불리는 일명 '드론', 드론은 4차...  LX 한국국토정보공사 블로그   \n",
       "3  클라우드와 에지 컴퓨팅 등의 기술을 통하여 정보 시스템,통신 시스템,산업용 관리 시...    사고력수학 전문가 시매쓰   \n",
       "4  그러나 시대가 완전히 바뀐 4차산업혁명 시대에는 앞서 말했던 미술, 음악, 무용 등...           스마트메이커   \n",
       "\n",
       "                        Blogger Link  Post Date  \\\n",
       "0   https://blog.naver.com/ymkim1959   20211221   \n",
       "1    https://blog.naver.com/hott0116   20211004   \n",
       "2      https://blog.naver.com/kcscpr   20211116   \n",
       "3  https://blog.naver.com/cmath_club   20220117   \n",
       "4   https://blog.naver.com/simon9627   20211211   \n",
       "\n",
       "                                       Post Contents  \n",
       "0  \\n\\n\\n\\n\\n\\n\\n4차산업혁명\\n\\n\\n\\n\\n4차산업혁명(4IR)과 의료기...  \n",
       "1  \\n\\n\\n\\n\\n\\n\\n일상과 생각♭\\n\\n\\n\\n\\n2030년 제4차산업혁명  ...  \n",
       "2  \\n\\n\\n\\n\\n\\n\\nLX 랜드러버\\n\\n\\n\\n\\n4차 산업혁명 시대, 드론을...  \n",
       "3  \\n\\n\\n\\n\\n\\n\\n\\n\\n\\n영재교육\\n\\n\\n\\n\\n영재교육 4차산업혁명에...  \n",
       "4  \\n\\n\\n\\n\\n\\n\\n이슈 뉴스\\n\\n\\n\\n\\n4차산업혁명 시대에 창의력은 무...  "
      ]
     },
     "execution_count": 7,
     "metadata": {},
     "output_type": "execute_result"
    }
   ],
   "source": [
    "#상위 인덱스 5개 추출\n",
    "result_data = pd.read_csv(\"data/fourth_revolution.csv\", encoding=\"utf-8\")\n",
    "result_data[0:5]"
   ]
  },
  {
   "cell_type": "code",
   "execution_count": 8,
   "metadata": {},
   "outputs": [
    {
     "data": {
      "text/plain": [
       "0    4차산업혁명의 정의는 무엇인가요? 이를 구현하기 위한 기술은 무엇이 필요한가요? 기...\n",
       "1    시기 4차 산업혁명은 정보통신의 융합이 이루어지는 시기 그동안 우리의 생활과 산업은...\n",
       "2    드론, 4차 산업혁명의 양날의 검! 무인항공기라 불리는 일명 '드론', 드론은 4차...\n",
       "3    클라우드와 에지 컴퓨팅 등의 기술을 통하여 정보 시스템,통신 시스템,산업용 관리 시...\n",
       "4    그러나 시대가 완전히 바뀐 4차산업혁명 시대에는 앞서 말했던 미술, 음악, 무용 등...\n",
       "Name: Description, dtype: object"
      ]
     },
     "execution_count": 8,
     "metadata": {},
     "output_type": "execute_result"
    }
   ],
   "source": [
    "#요약 내용 상위 5개 인덱스 추출\n",
    "content = result_data.get('Description')\n",
    "content[0:5]"
   ]
  }
 ],
 "metadata": {
  "colab": {
   "collapsed_sections": [],
   "name": "4차 산업혁명에 대한 의견수렴.ipynb",
   "provenance": []
  },
  "kernelspec": {
   "display_name": "Python 3 (ipykernel)",
   "language": "python",
   "name": "python3"
  },
  "language_info": {
   "codemirror_mode": {
    "name": "ipython",
    "version": 3
   },
   "file_extension": ".py",
   "mimetype": "text/x-python",
   "name": "python",
   "nbconvert_exporter": "python",
   "pygments_lexer": "ipython3",
   "version": "3.9.7"
  }
 },
 "nbformat": 4,
 "nbformat_minor": 1
}
