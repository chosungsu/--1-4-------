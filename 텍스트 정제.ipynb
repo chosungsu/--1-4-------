{
 "cells": [
  {
   "cell_type": "code",
   "execution_count": 1,
   "id": "a5daa2a1",
   "metadata": {},
   "outputs": [],
   "source": [
    "import pandas as pd"
   ]
  },
  {
   "cell_type": "code",
   "execution_count": 5,
   "id": "35b7e5a4",
   "metadata": {},
   "outputs": [
    {
     "data": {
      "text/html": [
       "<div>\n",
       "<style scoped>\n",
       "    .dataframe tbody tr th:only-of-type {\n",
       "        vertical-align: middle;\n",
       "    }\n",
       "\n",
       "    .dataframe tbody tr th {\n",
       "        vertical-align: top;\n",
       "    }\n",
       "\n",
       "    .dataframe thead th {\n",
       "        text-align: right;\n",
       "    }\n",
       "</style>\n",
       "<table border=\"1\" class=\"dataframe\">\n",
       "  <thead>\n",
       "    <tr style=\"text-align: right;\">\n",
       "      <th></th>\n",
       "      <th>Title</th>\n",
       "      <th>Link</th>\n",
       "      <th>Description</th>\n",
       "      <th>Blogger Name</th>\n",
       "      <th>Blogger Link</th>\n",
       "      <th>Post Date</th>\n",
       "      <th>Post Contents</th>\n",
       "    </tr>\n",
       "  </thead>\n",
       "  <tbody>\n",
       "    <tr>\n",
       "      <th>0</th>\n",
       "      <td>4차산업혁명(4IR)과 의료기술 과목</td>\n",
       "      <td>https://blog.naver.com/ymkim1959?Redirect=Log&amp;...</td>\n",
       "      <td>4차산업혁명의 정의는 무엇인가요? 이를 구현하기 위한 기술은 무엇이 필요한가요? 기...</td>\n",
       "      <td>4차산업혁명 시대의 의공학</td>\n",
       "      <td>https://blog.naver.com/ymkim1959</td>\n",
       "      <td>20211221</td>\n",
       "      <td>\\n\\n\\n\\n\\n\\n\\n4차산업혁명\\n\\n\\n\\n\\n4차산업혁명(4IR)과 의료기...</td>\n",
       "    </tr>\n",
       "    <tr>\n",
       "      <th>1</th>\n",
       "      <td>2030년 제4차산업혁명</td>\n",
       "      <td>https://blog.naver.com/hott0116?Redirect=Log&amp;l...</td>\n",
       "      <td>시기 4차 산업혁명은 정보통신의 융합이 이루어지는 시기 그동안 우리의 생활과 산업은...</td>\n",
       "      <td>초긍정녀의 다이어리</td>\n",
       "      <td>https://blog.naver.com/hott0116</td>\n",
       "      <td>20211004</td>\n",
       "      <td>\\n\\n\\n\\n\\n\\n\\n일상과 생각♭\\n\\n\\n\\n\\n2030년 제4차산업혁명  ...</td>\n",
       "    </tr>\n",
       "    <tr>\n",
       "      <th>2</th>\n",
       "      <td>4차 산업혁명 시대, 드론을 더 안전하게 활용하는 방법은?</td>\n",
       "      <td>https://blog.naver.com/kcscpr?Redirect=Log&amp;log...</td>\n",
       "      <td>드론, 4차 산업혁명의 양날의 검! 무인항공기라 불리는 일명 '드론', 드론은 4차...</td>\n",
       "      <td>LX 한국국토정보공사 블로그</td>\n",
       "      <td>https://blog.naver.com/kcscpr</td>\n",
       "      <td>20211116</td>\n",
       "      <td>\\n\\n\\n\\n\\n\\n\\nLX 랜드러버\\n\\n\\n\\n\\n4차 산업혁명 시대, 드론을...</td>\n",
       "    </tr>\n",
       "    <tr>\n",
       "      <th>3</th>\n",
       "      <td>영재교육 4차산업혁명에 생겨나는 미래 유망 직업</td>\n",
       "      <td>https://blog.naver.com/cmath_club?Redirect=Log...</td>\n",
       "      <td>클라우드와 에지 컴퓨팅 등의 기술을 통하여 정보 시스템,통신 시스템,산업용 관리 시...</td>\n",
       "      <td>사고력수학 전문가 시매쓰</td>\n",
       "      <td>https://blog.naver.com/cmath_club</td>\n",
       "      <td>20220117</td>\n",
       "      <td>\\n\\n\\n\\n\\n\\n\\n\\n\\n\\n영재교육\\n\\n\\n\\n\\n영재교육 4차산업혁명에...</td>\n",
       "    </tr>\n",
       "    <tr>\n",
       "      <th>4</th>\n",
       "      <td>4차산업혁명 시대에 창의력은 무엇일까?</td>\n",
       "      <td>https://blog.naver.com/simon9627?Redirect=Log&amp;...</td>\n",
       "      <td>그러나 시대가 완전히 바뀐 4차산업혁명 시대에는 앞서 말했던 미술, 음악, 무용 등...</td>\n",
       "      <td>스마트메이커</td>\n",
       "      <td>https://blog.naver.com/simon9627</td>\n",
       "      <td>20211211</td>\n",
       "      <td>\\n\\n\\n\\n\\n\\n\\n이슈 뉴스\\n\\n\\n\\n\\n4차산업혁명 시대에 창의력은 무...</td>\n",
       "    </tr>\n",
       "    <tr>\n",
       "      <th>5</th>\n",
       "      <td>미래교육_ 4차 산업혁명 _ K-MOOC편</td>\n",
       "      <td>https://blog.naver.com/dkcyber4?Redirect=Log&amp;l...</td>\n",
       "      <td>학생들의 4차 산업혁명 관련 기술 및 신 산업 이해에 따른 취업 및 창업에 있어서 ...</td>\n",
       "      <td>오현주PD 온클에듀×진로TV</td>\n",
       "      <td>https://blog.naver.com/dkcyber4</td>\n",
       "      <td>20220114</td>\n",
       "      <td>\\n\\n\\n\\n\\n\\n\\n미래교육자료\\n\\n\\n\\n\\n 미래교육_ 4차 산업혁명 _...</td>\n",
       "    </tr>\n",
       "    <tr>\n",
       "      <th>6</th>\n",
       "      <td>4차산업혁명선도하고 지역SW산업발전을 목표하는...</td>\n",
       "      <td>https://blog.naver.com/oksk2002kr?Redirect=Log...</td>\n",
       "      <td>외 타지역으로 시선을 돌릴 수 있는 새로운 기회의 장이 마련될 수 있으니 기대가 됩...</td>\n",
       "      <td>티보의 IT공작소</td>\n",
       "      <td>https://blog.naver.com/oksk2002kr</td>\n",
       "      <td>20211219</td>\n",
       "      <td>\\n\\n\\n\\n\\n\\n\\nIT 정보\\n\\n\\n\\n\\n4차산업혁명선도하고 지역SW산업...</td>\n",
       "    </tr>\n",
       "    <tr>\n",
       "      <th>7</th>\n",
       "      <td>4차 산업혁명이 미래를 바꾼다!</td>\n",
       "      <td>https://blog.naver.com/kimroh6688?Redirect=Log...</td>\n",
       "      <td>사진 출처 : 시사저널e 4차 산업혁명이란 증기기관이 나타난 1차 산업혁명, 전기를...</td>\n",
       "      <td>곰곰이, 어린이/청소년 독서문화공간</td>\n",
       "      <td>https://blog.naver.com/kimroh6688</td>\n",
       "      <td>20211013</td>\n",
       "      <td>\\n\\n\\n\\n\\n\\n\\n어린이기사\\n\\n\\n\\n\\n4차 산업혁명이 미래를 바꾼다!...</td>\n",
       "    </tr>\n",
       "    <tr>\n",
       "      <th>8</th>\n",
       "      <td>4차 산업혁명 기술 무엇이 있을까?</td>\n",
       "      <td>https://blog.naver.com/possiblehoya?Redirect=L...</td>\n",
       "      <td>4차 이전의 산업혁명에서 기계가 사람을 대체할것이라는 예측이 있었지만, 우리가 지금...</td>\n",
       "      <td>견우's 재테크 &amp; 스터디</td>\n",
       "      <td>https://blog.naver.com/possiblehoya</td>\n",
       "      <td>20210407</td>\n",
       "      <td>\\n\\n\\n\\n\\n\\n\\n견우's 금융 경제 재테크\\n\\n\\n\\n\\n4차 산업혁명 ...</td>\n",
       "    </tr>\n",
       "    <tr>\n",
       "      <th>9</th>\n",
       "      <td>4차산업혁명 자율주행 관련주(현대오토에버 외)</td>\n",
       "      <td>https://blog.naver.com/dyllis11?Redirect=Log&amp;l...</td>\n",
       "      <td>이번 개최된 2022 CES의 중심은 단연 4차 산업 혁명을 주도할 자율주행, 전장...</td>\n",
       "      <td>생강크루즈의 짧은8월</td>\n",
       "      <td>https://blog.naver.com/dyllis11</td>\n",
       "      <td>20220110</td>\n",
       "      <td>\\n\\n\\n\\n\\n\\n\\n국내주식\\n\\n\\n\\n\\n4차산업혁명 자율주행 관련주(현대...</td>\n",
       "    </tr>\n",
       "  </tbody>\n",
       "</table>\n",
       "</div>"
      ],
      "text/plain": [
       "                              Title  \\\n",
       "0              4차산업혁명(4IR)과 의료기술 과목   \n",
       "1                     2030년 제4차산업혁명   \n",
       "2  4차 산업혁명 시대, 드론을 더 안전하게 활용하는 방법은?   \n",
       "3        영재교육 4차산업혁명에 생겨나는 미래 유망 직업   \n",
       "4             4차산업혁명 시대에 창의력은 무엇일까?   \n",
       "5           미래교육_ 4차 산업혁명 _ K-MOOC편   \n",
       "6     4차산업혁명선도하고 지역SW산업발전을 목표하는...    \n",
       "7                 4차 산업혁명이 미래를 바꾼다!   \n",
       "8               4차 산업혁명 기술 무엇이 있을까?   \n",
       "9         4차산업혁명 자율주행 관련주(현대오토에버 외)   \n",
       "\n",
       "                                                Link  \\\n",
       "0  https://blog.naver.com/ymkim1959?Redirect=Log&...   \n",
       "1  https://blog.naver.com/hott0116?Redirect=Log&l...   \n",
       "2  https://blog.naver.com/kcscpr?Redirect=Log&log...   \n",
       "3  https://blog.naver.com/cmath_club?Redirect=Log...   \n",
       "4  https://blog.naver.com/simon9627?Redirect=Log&...   \n",
       "5  https://blog.naver.com/dkcyber4?Redirect=Log&l...   \n",
       "6  https://blog.naver.com/oksk2002kr?Redirect=Log...   \n",
       "7  https://blog.naver.com/kimroh6688?Redirect=Log...   \n",
       "8  https://blog.naver.com/possiblehoya?Redirect=L...   \n",
       "9  https://blog.naver.com/dyllis11?Redirect=Log&l...   \n",
       "\n",
       "                                         Description         Blogger Name  \\\n",
       "0  4차산업혁명의 정의는 무엇인가요? 이를 구현하기 위한 기술은 무엇이 필요한가요? 기...       4차산업혁명 시대의 의공학   \n",
       "1  시기 4차 산업혁명은 정보통신의 융합이 이루어지는 시기 그동안 우리의 생활과 산업은...           초긍정녀의 다이어리   \n",
       "2  드론, 4차 산업혁명의 양날의 검! 무인항공기라 불리는 일명 '드론', 드론은 4차...      LX 한국국토정보공사 블로그   \n",
       "3  클라우드와 에지 컴퓨팅 등의 기술을 통하여 정보 시스템,통신 시스템,산업용 관리 시...        사고력수학 전문가 시매쓰   \n",
       "4  그러나 시대가 완전히 바뀐 4차산업혁명 시대에는 앞서 말했던 미술, 음악, 무용 등...               스마트메이커   \n",
       "5  학생들의 4차 산업혁명 관련 기술 및 신 산업 이해에 따른 취업 및 창업에 있어서 ...      오현주PD 온클에듀×진로TV   \n",
       "6  외 타지역으로 시선을 돌릴 수 있는 새로운 기회의 장이 마련될 수 있으니 기대가 됩...            티보의 IT공작소   \n",
       "7  사진 출처 : 시사저널e 4차 산업혁명이란 증기기관이 나타난 1차 산업혁명, 전기를...  곰곰이, 어린이/청소년 독서문화공간   \n",
       "8  4차 이전의 산업혁명에서 기계가 사람을 대체할것이라는 예측이 있었지만, 우리가 지금...       견우's 재테크 & 스터디   \n",
       "9  이번 개최된 2022 CES의 중심은 단연 4차 산업 혁명을 주도할 자율주행, 전장...          생강크루즈의 짧은8월   \n",
       "\n",
       "                          Blogger Link  Post Date  \\\n",
       "0     https://blog.naver.com/ymkim1959   20211221   \n",
       "1      https://blog.naver.com/hott0116   20211004   \n",
       "2        https://blog.naver.com/kcscpr   20211116   \n",
       "3    https://blog.naver.com/cmath_club   20220117   \n",
       "4     https://blog.naver.com/simon9627   20211211   \n",
       "5      https://blog.naver.com/dkcyber4   20220114   \n",
       "6    https://blog.naver.com/oksk2002kr   20211219   \n",
       "7    https://blog.naver.com/kimroh6688   20211013   \n",
       "8  https://blog.naver.com/possiblehoya   20210407   \n",
       "9      https://blog.naver.com/dyllis11   20220110   \n",
       "\n",
       "                                       Post Contents  \n",
       "0  \\n\\n\\n\\n\\n\\n\\n4차산업혁명\\n\\n\\n\\n\\n4차산업혁명(4IR)과 의료기...  \n",
       "1  \\n\\n\\n\\n\\n\\n\\n일상과 생각♭\\n\\n\\n\\n\\n2030년 제4차산업혁명  ...  \n",
       "2  \\n\\n\\n\\n\\n\\n\\nLX 랜드러버\\n\\n\\n\\n\\n4차 산업혁명 시대, 드론을...  \n",
       "3  \\n\\n\\n\\n\\n\\n\\n\\n\\n\\n영재교육\\n\\n\\n\\n\\n영재교육 4차산업혁명에...  \n",
       "4  \\n\\n\\n\\n\\n\\n\\n이슈 뉴스\\n\\n\\n\\n\\n4차산업혁명 시대에 창의력은 무...  \n",
       "5  \\n\\n\\n\\n\\n\\n\\n미래교육자료\\n\\n\\n\\n\\n 미래교육_ 4차 산업혁명 _...  \n",
       "6  \\n\\n\\n\\n\\n\\n\\nIT 정보\\n\\n\\n\\n\\n4차산업혁명선도하고 지역SW산업...  \n",
       "7  \\n\\n\\n\\n\\n\\n\\n어린이기사\\n\\n\\n\\n\\n4차 산업혁명이 미래를 바꾼다!...  \n",
       "8  \\n\\n\\n\\n\\n\\n\\n견우's 금융 경제 재테크\\n\\n\\n\\n\\n4차 산업혁명 ...  \n",
       "9  \\n\\n\\n\\n\\n\\n\\n국내주식\\n\\n\\n\\n\\n4차산업혁명 자율주행 관련주(현대...  "
      ]
     },
     "execution_count": 5,
     "metadata": {},
     "output_type": "execute_result"
    }
   ],
   "source": [
    "df = pd.read_csv(\"data/forth_revolution.csv\", encoding=\"cp949\")\n",
    "df[0:10]"
   ]
  },
  {
   "cell_type": "code",
   "execution_count": 6,
   "id": "dc840f7a",
   "metadata": {},
   "outputs": [
    {
     "name": "stdout",
     "output_type": "stream",
     "text": [
      "Collecting eunjeon\n",
      "  Downloading eunjeon-0.4.0.tar.gz (34.7 MB)\n",
      "Building wheels for collected packages: eunjeon\n",
      "  Building wheel for eunjeon (setup.py): started\n",
      "  Building wheel for eunjeon (setup.py): finished with status 'done'\n",
      "  Created wheel for eunjeon: filename=eunjeon-0.4.0-cp39-cp39-win_amd64.whl size=35022827 sha256=f4546c2f3e6eb35c24d71f212728adcb3bd95839a174e7ed9ea9f8a436409193\n",
      "  Stored in directory: c:\\users\\chosungsu\\appdata\\local\\pip\\cache\\wheels\\51\\05\\fb\\48ff3bf6804f7cea4a3f7be6300a5b19618007c35d2064a753\n",
      "Successfully built eunjeon\n",
      "Installing collected packages: eunjeon\n",
      "Successfully installed eunjeon-0.4.0\n"
     ]
    }
   ],
   "source": [
    "!pip install eunjeon"
   ]
  },
  {
   "cell_type": "code",
   "execution_count": 7,
   "id": "9575e84d",
   "metadata": {},
   "outputs": [],
   "source": [
    "from eunjeon import Mecab\n",
    "tagger = Mecab()"
   ]
  },
  {
   "cell_type": "code",
   "execution_count": 21,
   "id": "8436e8c3",
   "metadata": {},
   "outputs": [
    {
     "data": {
      "text/plain": [
       "['4', '은', '이', '것', '등', '더', '를', '차', '수', '년']"
      ]
     },
     "execution_count": 21,
     "metadata": {},
     "output_type": "execute_result"
    }
   ],
   "source": [
    "#불용어 발견할 때마다 추가할 예정이다.\n",
    "stop_words = \"4 은 이 것 등 더 를 차 수 년\"\n",
    "stop_words = stop_words.split(' ')\n",
    "stop_words[0:10]"
   ]
  },
  {
   "cell_type": "code",
   "execution_count": 22,
   "id": "4bb71717",
   "metadata": {},
   "outputs": [
    {
     "data": {
      "text/plain": [
       "0    4차산업혁명(4IR)과 의료기술 과목 4차산업혁명의 정의는 무엇인가요? 이를 구현하...\n",
       "1    2030년 제4차산업혁명 시기 4차 산업혁명은 정보통신의 융합이 이루어지는 시기 그...\n",
       "2    4차 산업혁명 시대, 드론을 더 안전하게 활용하는 방법은? 드론, 4차 산업혁명의 ...\n",
       "3    영재교육 4차산업혁명에 생겨나는 미래 유망 직업 클라우드와 에지 컴퓨팅 등의 기술을...\n",
       "4    4차산업혁명 시대에 창의력은 무엇일까? 그러나 시대가 완전히 바뀐 4차산업혁명 시대...\n",
       "5    미래교육_ 4차 산업혁명 _ K-MOOC편 학생들의 4차 산업혁명 관련 기술 및 신...\n",
       "6    4차산업혁명선도하고 지역SW산업발전을 목표하는...  외 타지역으로 시선을 돌릴 수...\n",
       "7    4차 산업혁명이 미래를 바꾼다! 사진 출처 : 시사저널e 4차 산업혁명이란 증기기관...\n",
       "8    4차 산업혁명 기술 무엇이 있을까? 4차 이전의 산업혁명에서 기계가 사람을 대체할것...\n",
       "9    4차산업혁명 자율주행 관련주(현대오토에버 외) 이번 개최된 2022 CES의 중심은...\n",
       "dtype: object"
      ]
     },
     "execution_count": 22,
     "metadata": {},
     "output_type": "execute_result"
    }
   ],
   "source": [
    "posts = df.get('Title') + \" \" + df.get('Description')\n",
    "posts[0:10]"
   ]
  },
  {
   "cell_type": "code",
   "execution_count": 23,
   "id": "836870ec",
   "metadata": {},
   "outputs": [
    {
     "data": {
      "text/plain": [
       "['산업', '혁명', '의료', '기술', '과목', '산업', '혁명', '정의', '무엇', '구현']"
      ]
     },
     "execution_count": 23,
     "metadata": {},
     "output_type": "execute_result"
    }
   ],
   "source": [
    "#명사 추출\n",
    "nouns = []\n",
    "for post in posts :\n",
    "    for noun in tagger.nouns(post) :\n",
    "        if noun not in stop_words :\n",
    "            nouns.append(noun)\n",
    "nouns[0:10]"
   ]
  },
  {
   "cell_type": "code",
   "execution_count": 24,
   "id": "44ef5e5c",
   "metadata": {},
   "outputs": [
    {
     "data": {
      "text/plain": [
       "[('4', 'SN'),\n",
       " ('차', 'NNBC'),\n",
       " ('산업', 'NNG'),\n",
       " ('혁명', 'NNG'),\n",
       " ('(', 'SSO'),\n",
       " ('4', 'SN'),\n",
       " ('IR', 'SL'),\n",
       " (')', 'SSC'),\n",
       " ('과', 'JC'),\n",
       " ('의료', 'NNG')]"
      ]
     },
     "execution_count": 24,
     "metadata": {},
     "output_type": "execute_result"
    }
   ],
   "source": [
    "#단어 형태소 분석\n",
    "words = []\n",
    "for post in posts :\n",
    "    words.extend(tagger.pos(post))\n",
    "words[0:10]"
   ]
  },
  {
   "cell_type": "code",
   "execution_count": 25,
   "id": "6e7f90ae",
   "metadata": {},
   "outputs": [
    {
     "data": {
      "text/plain": [
       "['이루어지다', '변하다', '이루어지다', '불리다', '생겨나다', '통하다', '및다', '있다', '되다', '있다']"
      ]
     },
     "execution_count": 25,
     "metadata": {},
     "output_type": "execute_result"
    }
   ],
   "source": [
    "#단어 추출\n",
    "verbs=[]\n",
    "for word in words :\n",
    "    if word[1] == 'VV' :\n",
    "        verbs.append(word[0] + '다')\n",
    "verbs[0:10]"
   ]
  },
  {
   "cell_type": "code",
   "execution_count": 26,
   "id": "8ae40cd7",
   "metadata": {},
   "outputs": [
    {
     "data": {
      "text/plain": [
       "['같다', '빠르다', '있다', '있다', '있다', '있다', '좋다', '넓다', '높다', '나쁘다']"
      ]
     },
     "execution_count": 26,
     "metadata": {},
     "output_type": "execute_result"
    }
   ],
   "source": [
    "#형용사 추출\n",
    "adj=[]\n",
    "for word in words :\n",
    "    if word[1] == 'VA' :\n",
    "        adj.append(word[0] + '다')\n",
    "adj[0:10]"
   ]
  },
  {
   "cell_type": "code",
   "execution_count": 27,
   "id": "84a64958",
   "metadata": {},
   "outputs": [
    {
     "data": {
      "text/plain": [
       "[('산업', 3499),\n",
       " ('혁명', 3060),\n",
       " ('시대', 796),\n",
       " ('기술', 534),\n",
       " ('미래', 299),\n",
       " ('교육', 290),\n",
       " ('변화', 217),\n",
       " ('정보', 192),\n",
       " ('인공지능', 190),\n",
       " ('핵심', 170),\n",
       " ('데이터', 167),\n",
       " ('직업', 159),\n",
       " ('우리', 157),\n",
       " ('분야', 150),\n",
       " ('융합', 143),\n",
       " ('스마트', 138),\n",
       " ('디지털', 121),\n",
       " ('사회', 119),\n",
       " ('인터넷', 116),\n",
       " ('빅', 113)]"
      ]
     },
     "execution_count": 27,
     "metadata": {},
     "output_type": "execute_result"
    }
   ],
   "source": [
    "from collections import Counter\n",
    "counted_nouns = Counter(nouns)\n",
    "top_20 = counted_nouns.most_common(20)\n",
    "top_20"
   ]
  }
 ],
 "metadata": {
  "kernelspec": {
   "display_name": "Python 3 (ipykernel)",
   "language": "python",
   "name": "python3"
  },
  "language_info": {
   "codemirror_mode": {
    "name": "ipython",
    "version": 3
   },
   "file_extension": ".py",
   "mimetype": "text/x-python",
   "name": "python",
   "nbconvert_exporter": "python",
   "pygments_lexer": "ipython3",
   "version": "3.9.7"
  }
 },
 "nbformat": 4,
 "nbformat_minor": 5
}
